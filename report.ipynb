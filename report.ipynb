{
 "cells": [
  {
   "cell_type": "markdown",
   "metadata": {},
   "source": [
    "# CISC 856: Reinforcement Learning\n",
    "## Assignment 1: 2-Player Matrix Games\n",
    "##### Hugh Morison (10179903)\n",
    "##### Matthew Filipovich ()"
   ]
  },
  {
   "cell_type": "code",
   "execution_count": 15,
   "metadata": {},
   "outputs": [],
   "source": [
    "from policy_iteration import p1_rewards,p2_rewards,normalize,play_game\n",
    "\n",
    "def iterate(p1, p2, matrix1, matrix2, ALPHA=0.5, T=50000, alg=1):\n",
    "    p1_history = []\n",
    "    p2_history = []\n",
    "    for t in range(T):\n",
    "        p1_history.append([*p1])\n",
    "        p2_history.append([*p2])\n",
    "        (a1, r1), (a2, r2) = play_game(matrix1, matrix2, p1, p2)\n",
    "        p1 = update_policy(p1, a1, r1, mode=alg)\n",
    "        p2 = update_policy(p2, a2, r2, mode=alg)\n",
    "    return p1_history, p2_history"
   ]
  },
  {
   "cell_type": "markdown",
   "metadata": {},
   "source": [
    "## Prisoner's Dilemma"
   ]
  },
  {
   "cell_type": "code",
   "execution_count": null,
   "metadata": {},
   "outputs": [],
   "source": [
    "p1_r = p1_rewards[0]\n",
    "p2_r = p2_rewards[0]\n",
    "\n",
    "policy_1 = normalize(*np.random.random(2))\n",
    "policy_2 = normalize(*np.random.random(2))\n",
    "\n",
    "p1_history, p2_history = iterate(policy_1, policy_2, p1_r, p2_r)"
   ]
  },
  {
   "cell_type": "markdown",
   "metadata": {},
   "source": [
    "## Matching Pennies"
   ]
  },
  {
   "cell_type": "code",
   "execution_count": null,
   "metadata": {},
   "outputs": [],
   "source": [
    "p1_r = p1_rewards[1]\n",
    "p2_r = p2_rewards[1]\n",
    "\n",
    "policy_1 = normalize(*np.random.random(2))\n",
    "policy_2 = normalize(*np.random.random(2))\n",
    "\n",
    "p1_history, p2_history = iterate(policy_1, policy_2, p1_r, p2_r)"
   ]
  },
  {
   "cell_type": "markdown",
   "metadata": {},
   "source": [
    "## Rock Paper Scissors"
   ]
  },
  {
   "cell_type": "code",
   "execution_count": null,
   "metadata": {},
   "outputs": [],
   "source": [
    "p1_r = p1_rewards[2]\n",
    "p2_r = p2_rewards[2]\n",
    "\n",
    "policy_1 = normalize(*np.random.random(3))\n",
    "policy_2 = normalize(*np.random.random(3))\n",
    "\n",
    "p1_history, p2_history = iterate(policy_1, policy_2, p1_r, p2_r)"
   ]
  }
 ],
 "metadata": {
  "kernelspec": {
   "display_name": "Python 3",
   "language": "python",
   "name": "python3"
  },
  "language_info": {
   "codemirror_mode": {
    "name": "ipython",
    "version": 3
   },
   "file_extension": ".py",
   "mimetype": "text/x-python",
   "name": "python",
   "nbconvert_exporter": "python",
   "pygments_lexer": "ipython3",
   "version": "3.7.4"
  }
 },
 "nbformat": 4,
 "nbformat_minor": 4
}

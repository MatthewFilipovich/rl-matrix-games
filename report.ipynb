{
 "cells": [
  {
   "cell_type": "markdown",
   "metadata": {},
   "source": [
    "# CISC 856: Reinforcement Learning\n",
    "## Assignment 1: 2-Player Matrix Games\n",
    "##### Hugh Morison (10179903)\n",
    "##### Matthew Filipovich ()"
   ]
  },
  {
   "cell_type": "code",
   "execution_count": 1,
   "metadata": {},
   "outputs": [],
   "source": [
    "from policy_iteration import p1_rewards,p2_rewards,normalize,play_game,update_policy,iterate\n",
    "import matplotlib.pyplot as plt\n",
    "import numpy as np\n",
    "%matplotlib inline"
   ]
  },
  {
   "cell_type": "markdown",
   "metadata": {},
   "source": [
    "## Prisoner's Dilemma"
   ]
  },
  {
   "cell_type": "code",
   "execution_count": 2,
   "metadata": {},
   "outputs": [
    {
     "name": "stdout",
     "output_type": "stream",
     "text": [
      "Converged to probabilities of cooperation:\n",
      "\tPlayer 1:4.9e-322\n",
      "\tPlayer 2:4.9e-322\n",
      "\n"
     ]
    },
    {
     "data": {
      "image/png": "[encoded data removed]",
      "text/plain": [
       "<Figure size 432x288 with 1 Axes>"
      ]
     },
     "metadata": {
      "needs_background": "light"
     },
     "output_type": "display_data"
    }
   ],
   "source": [
    "p1_r = p1_rewards[0]\n",
    "p2_r = p2_rewards[0]\n",
    "\n",
    "policy_1 = normalize(np.random.random(2))\n",
    "policy_2 = normalize(np.random.random(2))\n",
    "\n",
    "p1_history, p2_history = iterate(policy_1, policy_2, p1_r, p2_r)\n",
    "\n",
    "\n",
    "x1, y1 = zip(*p1_history)\n",
    "x2, y2 = zip(*p2_history)\n",
    "print('Converged to probabilities of cooperation:\\n\\tPlayer 1:{}\\n\\tPlayer 2:{}\\n'.format(x1[-1],x2[-1]))\n",
    "plt.figure()\n",
    "plt.plot(x1,x2, '-.')\n",
    "plt.xlim((0,1))\n",
    "plt.ylim((0,1))\n",
    "plt.show()"
   ]
  },
  {
   "cell_type": "code",
   "execution_count": null,
   "metadata": {},
   "outputs": [],
   "source": []
  },
  {
   "cell_type": "markdown",
   "metadata": {},
   "source": [
    "## Matching Pennies"
   ]
  },
  {
   "cell_type": "code",
   "execution_count": 3,
   "metadata": {},
   "outputs": [
    {
     "name": "stdout",
     "output_type": "stream",
     "text": [
      "Iteration 10k\n",
      "Iteration 20k\n",
      "Iteration 30k\n",
      "Iteration 40k\n",
      "Iteration 50k\n",
      "Iteration 60k\n",
      "Iteration 70k\n",
      "Iteration 80k\n",
      "Iteration 90k\n",
      "Iteration 100k\n",
      "Iteration 110k\n",
      "Iteration 120k\n",
      "Iteration 130k\n",
      "Iteration 140k\n",
      "Iteration 150k\n",
      "Iteration 160k\n",
      "Iteration 170k\n",
      "Iteration 180k\n",
      "Iteration 190k\n",
      "Iteration 200k\n",
      "Iteration 210k\n",
      "Iteration 220k\n",
      "Iteration 230k\n",
      "Iteration 240k\n",
      "Iteration 250k\n",
      "Iteration 260k\n",
      "Iteration 270k\n",
      "Iteration 280k\n",
      "Iteration 290k\n",
      "Iteration 300k\n",
      "Iteration 310k\n",
      "Iteration 320k\n",
      "Iteration 330k\n",
      "Iteration 340k\n",
      "Iteration 350k\n",
      "Iteration 360k\n",
      "Iteration 370k\n",
      "Iteration 380k\n",
      "Iteration 390k\n",
      "Iteration 400k\n",
      "Iteration 410k\n",
      "Iteration 420k\n",
      "Iteration 430k\n",
      "Iteration 440k\n",
      "Iteration 450k\n",
      "Iteration 460k\n",
      "Iteration 470k\n",
      "Iteration 480k\n",
      "Iteration 490k\n",
      "Iteration 500k\n"
     ]
    }
   ],
   "source": [
    "p1_r = p1_rewards[1]\n",
    "p2_r = p2_rewards[1]\n",
    "\n",
    "policy_1 = normalize(np.random.random(2))\n",
    "policy_2 = normalize(np.random.random(2))\n",
    "\n",
    "p1_history, p2_history = iterate(policy_1, policy_2, p1_r, p2_r)"
   ]
  },
  {
   "cell_type": "markdown",
   "metadata": {},
   "source": [
    "## Rock Paper Scissors"
   ]
  },
  {
   "cell_type": "code",
   "execution_count": null,
   "metadata": {},
   "outputs": [
    {
     "name": "stdout",
     "output_type": "stream",
     "text": [
      "Iteration 10k\n",
      "Iteration 20k\n",
      "Iteration 30k\n",
      "Iteration 40k\n",
      "Iteration 50k\n",
      "Iteration 60k\n",
      "Iteration 70k\n",
      "Iteration 80k\n",
      "Iteration 90k\n",
      "Iteration 100k\n",
      "Iteration 110k\n",
      "Iteration 120k\n",
      "Iteration 130k\n",
      "Iteration 140k\n",
      "Iteration 150k\n",
      "Iteration 160k\n",
      "Iteration 170k\n",
      "Iteration 180k\n",
      "Iteration 190k\n",
      "Iteration 200k\n",
      "Iteration 210k\n",
      "Iteration 220k\n",
      "Iteration 230k\n",
      "Iteration 240k\n",
      "Iteration 250k\n",
      "Iteration 260k\n",
      "Iteration 270k\n",
      "Iteration 280k\n",
      "Iteration 290k\n",
      "Iteration 300k\n",
      "Iteration 310k\n",
      "Iteration 320k\n",
      "Iteration 330k\n",
      "Iteration 340k\n",
      "Iteration 350k\n",
      "Iteration 360k\n",
      "Iteration 370k\n",
      "Iteration 380k\n",
      "Iteration 390k\n",
      "Iteration 400k\n",
      "Iteration 410k\n",
      "Iteration 420k\n",
      "Iteration 430k\n",
      "Iteration 440k\n",
      "Iteration 450k\n",
      "Iteration 460k\n",
      "Iteration 470k\n",
      "Iteration 480k\n",
      "Iteration 490k\n",
      "Iteration 500k\n"
     ]
    }
   ],
   "source": [
    "p1_r = p1_rewards[2]\n",
    "p2_r = p2_rewards[2]\n",
    "\n",
    "policy_1 = normalize(np.random.random(3))\n",
    "policy_2 = normalize(np.random.random(3))\n",
    "\n",
    "p1_history, p2_history = iterate(policy_1, policy_2, p1_r, p2_r)"
   ]
  }
 ],
 "metadata": {
  "kernelspec": {
   "display_name": "Python 3",
   "language": "python",
   "name": "python3"
  },
  "language_info": {
   "codemirror_mode": {
    "name": "ipython",
    "version": 3
   },
   "file_extension": ".py",
   "mimetype": "text/x-python",
   "name": "python",
   "nbconvert_exporter": "python",
   "pygments_lexer": "ipython3",
   "version": "3.7.4"
  }
 },
 "nbformat": 4,
 "nbformat_minor": 4
}

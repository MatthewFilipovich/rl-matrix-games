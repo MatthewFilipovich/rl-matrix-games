{
 "cells": [
  {
   "cell_type": "markdown",
   "metadata": {},
   "source": [
    "# CISC 856: Reinforcement Learning\n",
    "## Assignment 1: 2-Player Matrix Games\n",
    "##### Hugh Morison (10179903)\n",
    "##### Matthew Filipovich ()"
   ]
  },
  {
   "cell_type": "code",
   "execution_count": null,
   "metadata": {},
   "outputs": [],
   "source": [
    "from policy_iteration import p1_rewards,p2_rewards,normalize,play_game,update_policy,iterate\n",
    "import matplotlib.pyplot as plt\n",
    "import numpy as np\n",
    "%matplotlib inline"
   ]
  },
  {
   "cell_type": "markdown",
   "metadata": {},
   "source": [
    "## Prisoner's Dilemma"
   ]
  },
  {
   "cell_type": "code",
   "execution_count": null,
   "metadata": {},
   "outputs": [],
   "source": [
    "rewards_1 = p1_rewards[0]\n",
    "rewards_2 = p2_rewards[0]\n",
    "\n",
    "# random policies\n",
    "policy_1 = normalize(np.random.random(2))\n",
    "policy_2 = normalize(np.random.random(2))\n",
    "\n",
    "p1_history, p2_history = iterate(policy_1, rewards_1, policy_2, rewards_2)\n",
    "\n",
    "x1, y1 = zip(*p1_history)\n",
    "x2, y2 = zip(*p2_history)\n",
    "print('Converged to probabilities of cooperation:\\n\\tPlayer 1:{}\\n\\tPlayer 2:{}\\n'.format(x1[-1],x2[-1]))\n",
    "plt.figure()\n",
    "plt.plot(x1,x2, '-.')\n",
    "plt.xlim((0,1))\n",
    "plt.ylim((0,1))\n",
    "plt.show()"
   ]
  },
  {
   "cell_type": "markdown",
   "metadata": {},
   "source": [
    "## Matching Pennies"
   ]
  },
  {
   "cell_type": "code",
   "execution_count": null,
   "metadata": {},
   "outputs": [],
   "source": [
    "rewards_1 = p1_rewards[1]\n",
    "rewards_2 = p2_rewards[1]\n",
    "\n",
    "# random policies\n",
    "policy_1 = normalize(np.random.random(2))\n",
    "policy_2 = normalize(np.random.random(2))\n",
    "\n",
    "p1_history, p2_history = iterate(policy_1, rewards_1, policy_2, rewards_2)"
   ]
  },
  {
   "cell_type": "markdown",
   "metadata": {},
   "source": [
    "## Rock Paper Scissors"
   ]
  },
  {
   "cell_type": "code",
   "execution_count": null,
   "metadata": {},
   "outputs": [],
   "source": [
    "rewards_1 = p1_rewards[2]\n",
    "rewards_2 = p2_rewards[2]\n",
    "\n",
    "# random policies\n",
    "policy_1 = normalize(np.random.random(3))\n",
    "policy_2 = normalize(np.random.random(3))\n",
    "\n",
    "p1_history, p2_history = iterate(policy_1, rewards_1, policy_2, rewards_2)"
   ]
  }
 ],
 "metadata": {
  "kernelspec": {
   "display_name": "Python 3",
   "language": "python",
   "name": "python3"
  },
  "language_info": {
   "codemirror_mode": {
    "name": "ipython",
    "version": 3
   },
   "file_extension": ".py",
   "mimetype": "text/x-python",
   "name": "python",
   "nbconvert_exporter": "python",
   "pygments_lexer": "ipython3",
   "version": "3.7.4"
  }
 },
 "nbformat": 4,
 "nbformat_minor": 4
}

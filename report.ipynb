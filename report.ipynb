{
 "cells": [
  {
   "cell_type": "markdown",
   "metadata": {},
   "source": [
    "# CISC 856: Reinforcement Learning\n",
    "## Assignment 1: 2-Player Matrix Games\n",
    "##### Hugh Morison (10179903)\n",
    "##### Matthew Filipovich (20029031)"
   ]
  },
  {
   "cell_type": "code",
   "execution_count": 2,
   "metadata": {},
   "outputs": [],
   "source": [
    "import numpy as np\n",
    "import matplotlib.pyplot as plt\n",
    "from mpl_toolkits.mplot3d import Axes3D\n",
    "from policy_iteration import p1_rewards, p2_rewards, action_labels, games, normalize, play_game, update_policy, iterate, make_plots, make_trajectory_plots\n",
    "%matplotlib inline"
   ]
  },
  {
   "cell_type": "markdown",
   "metadata": {},
   "source": [
    "## Prisoner's Dilemma"
   ]
  },
  {
   "cell_type": "code",
   "execution_count": 3,
   "metadata": {},
   "outputs": [
    {
     "name": "stdout",
     "output_type": "stream",
     "text": [
      "Converged to probabilities of lying:\n",
      "\tPlayer 1:2.5737735004656935e-23\n",
      "\tPlayer 2:9.66378065171933e-23\n",
      "\n",
      "Converged to probabilities of confessing:\n",
      "\tPlayer 1:1.0\n",
      "\tPlayer 2:1.0\n",
      "\n"
     ]
    },
    {
     "data": {
      "image/png": "[encoded data removed]",
      "text/plain": [
       "<Figure size 432x288 with 2 Axes>"
      ]
     },
     "metadata": {
      "needs_background": "light"
     },
     "output_type": "display_data"
    }
   ],
   "source": [
    "rewards_1 = p1_rewards[0]\n",
    "rewards_2 = p2_rewards[0]\n",
    "labels = action_labels[0]\n",
    "N = 10000\n",
    "\n",
    "## start with random policies\n",
    "policy_1 = normalize(np.random.random(2))\n",
    "policy_2 = normalize(np.random.random(2))\n",
    "\n",
    "## start with both tending to lie\n",
    "#policy_1 = np.array([0.8, 0.2])\n",
    "#policy_2 = np.array([0.8, 0.2])\n",
    "\n",
    "## start with both tending to confess\n",
    "#policy_1 = np.array([0.2, 0.8])\n",
    "#policy_2 = np.array([0.2, 0.8])\n",
    "\n",
    "## start with one hardened criminal and one rookie\n",
    "#policy_1 = np.array([0.8, 0.2])\n",
    "#policy_2 = np.array([0.2, 0.8])\n",
    "\n",
    "p1_history, p2_history, Q1, Q2 = iterate(policy_1, rewards_1, policy_2, rewards_2, max_iterations=N)\n",
    "p1_lie, p1_confess = zip(*p1_history)\n",
    "p2_lie, p2_confess = zip(*p2_history)\n",
    "print('Converged to probabilities of lying:\\n\\tPlayer 1:{}\\n\\tPlayer 2:{}\\n'.format(p1_lie[-1], p2_lie[-1]))\n",
    "print('Converged to probabilities of confessing:\\n\\tPlayer 1:{}\\n\\tPlayer 2:{}\\n'.format(p1_confess[-1], p2_confess[-1]))\n",
    "make_plots(p1_history, p2_history, labels)"
   ]
  },
  {
   "cell_type": "markdown",
   "metadata": {},
   "source": [
    "## Matching Pennies"
   ]
  },
  {
   "cell_type": "code",
   "execution_count": null,
   "metadata": {},
   "outputs": [],
   "source": [
    "rewards_1 = p1_rewards[1]\n",
    "rewards_2 = p2_rewards[1]\n",
    "labels = action_labels[1]\n",
    "N = 50000\n",
    "\n",
    "'First Algorithm'\n",
    "# random policies\n",
    "policy_1 = normalize(np.random.random(2))\n",
    "policy_2 = normalize(np.random.random(2))\n",
    "\n",
    "p1_history, p2_history, Q1, Q2 = iterate(policy_1, rewards_1, policy_2, rewards_2, alpha=0.001, max_iterations=N)\n",
    "\n",
    "make_plots(p1_history, p2_history, labels)\n",
    "\n",
    "'Modified Algorithm'\n",
    "# random policies\n",
    "policy_1 = normalize(np.random.random(2))\n",
    "policy_2 = normalize(np.random.random(2))\n",
    "\n",
    "p1_history, p2_history, Q1, Q2 = iterate(policy_1, rewards_1, policy_2, rewards_2, alpha=0.0005, max_iterations=N, update_alg='modified')\n",
    "\n",
    "make_plots(p1_history, p2_history, labels)"
   ]
  },
  {
   "cell_type": "markdown",
   "metadata": {},
   "source": [
    "## Rock Paper Scissors"
   ]
  },
  {
   "cell_type": "code",
   "execution_count": null,
   "metadata": {},
   "outputs": [],
   "source": [
    "rewards_1 = p1_rewards[2]\n",
    "rewards_2 = p2_rewards[2]\n",
    "labels = action_labels[2]\n",
    "N = 50000\n",
    "\n",
    "'First Algorithm'\n",
    "# random policies\n",
    "policy_1 = normalize(np.random.random(3))\n",
    "policy_2 = normalize(np.random.random(3))\n",
    "\n",
    "p1_history, p2_history, Q1, Q2 = iterate(policy_1, rewards_1, policy_2, rewards_2, alpha=0.01, max_iterations=N)\n",
    "\n",
    "p_rock1, p_paper1, p_scissors1 = zip(*p1_history)\n",
    "p_rock2, p_paper2, p_scissors2 = zip(*p2_history)\n",
    "\n",
    "make_plots(p1_history, p2_history, labels)\n",
    "make_trajectory_plots(p1_history, p2_history, labels)\n",
    "\n",
    "'Modified Algorithm'\n",
    "# random policies\n",
    "policy_1 = normalize(np.random.random(3))\n",
    "policy_2 = normalize(np.random.random(3))\n",
    "\n",
    "p1_history, p2_history, Q1, Q2 = iterate(policy_1, rewards_1, policy_2, rewards_2, alpha=0.01, max_iterations=N, update_alg='modified')\n",
    "\n",
    "p_rock1, p_paper1, p_scissors1 = zip(*p1_history)\n",
    "p_rock2, p_paper2, p_scissors2 = zip(*p2_history)\n",
    "\n",
    "make_plots(p1_history, p2_history, labels)\n",
    "make_trajectory_plots(p1_history, p2_history, labels)\n"
   ]
  },
  {
   "cell_type": "markdown",
   "metadata": {},
   "source": [
    "# All Three Games"
   ]
  },
  {
   "cell_type": "code",
   "execution_count": null,
   "metadata": {},
   "outputs": [],
   "source": [
    "N = 500000\n",
    "for game in range(3):\n",
    "    rewards_1 = p1_rewards[game]\n",
    "    rewards_2 = p2_rewards[game]\n",
    "    labels = action_labels[game]\n",
    "    size = len(labels)\n",
    "    \n",
    "    #random starting policies\n",
    "    print('STANDARD ALGORITHM')\n",
    "    policy_1 = normalize(np.random.random(size))\n",
    "    policy_2 = normalize(np.random.random(size))\n",
    "    p1_history, p2_history, Q1, Q2 = iterate(policy_1, rewards_1, policy_2, rewards_2, alpha=0.0005, max_iterations=N)\n",
    "    make_plots(p1_history, p2_history, labels)\n",
    "    \n",
    "    #random starting policies\n",
    "    print('MODIFIED ALGORITHM')\n",
    "    policy_1 = normalize(np.random.random(size))\n",
    "    policy_2 = normalize(np.random.random(size))\n",
    "    p1_history, p2_history, Q1, Q2 = iterate(policy_1, rewards_1, policy_2, rewards_2, alpha=0.0005, max_iterations=N, update_alg='modified')\n",
    "    make_plots(p1_history, p2_history, labels)"
   ]
  },
  {
   "cell_type": "code",
   "execution_count": null,
   "metadata": {},
   "outputs": [],
   "source": []
  }
 ],
 "metadata": {
  "kernelspec": {
   "display_name": "Python 3",
   "language": "python",
   "name": "python3"
  },
  "language_info": {
   "codemirror_mode": {
    "name": "ipython",
    "version": 3
   },
   "file_extension": ".py",
   "mimetype": "text/x-python",
   "name": "python",
   "nbconvert_exporter": "python",
   "pygments_lexer": "ipython3",
   "version": "3.7.4"
  }
 },
 "nbformat": 4,
 "nbformat_minor": 4
}

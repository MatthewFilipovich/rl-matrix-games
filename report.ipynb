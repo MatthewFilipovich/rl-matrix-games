{
 "cells": [
  {
   "cell_type": "markdown",
   "metadata": {},
   "source": [
    "# CISC 856: Reinforcement Learning\n",
    "## Assignment 1: 2-Player Matrix Games\n",
    "##### Hugh Morison (10179903)\n",
    "##### Matthew Filipovich (20029031)"
   ]
  },
  {
   "cell_type": "code",
   "execution_count": 1,
   "metadata": {},
   "outputs": [],
   "source": [
    "import numpy as np\n",
    "import matplotlib.pyplot as plt\n",
    "%matplotlib inline\n",
    "\n",
    "prisoners_dilemma = np.array([[5, 0],\n",
    "                              [10, 1]])\n",
    "matching_coins = np.array([[1, -1],\n",
    "                           [-1, 1]])\n",
    "rock_paper_scissors = np.array([[0, -1, 1],\n",
    "                                [1, 0, -1],\n",
    "                                [-1, 1, 0]])\n",
    "p1_rewards = [prisoners_dilemma, matching_coins, rock_paper_scissors]\n",
    "p2_rewards = [p1_rewards[0].transpose(), -p1_rewards[1], -p1_rewards[2]]\n",
    "action_labels = [['lie', 'confess'], ['head', 'tail'], ['rock', 'paper', 'scissors']]\n",
    "\n",
    "\n",
    "def normalize(policy):\n",
    "    if (policy < 0).any():\n",
    "        raise ValueError('Policy has negative value')\n",
    "    tot = policy.sum()\n",
    "    return policy/tot\n",
    "\n",
    "\n",
    "def play_game(policies, rewards):\n",
    "    n = len(rewards[0])\n",
    "    p1_action = np.random.choice(n, p=policies[0])\n",
    "    p2_action = np.random.choice(n, p=policies[1])\n",
    "    p1_reward = rewards[0][p1_action, p2_action]\n",
    "    p2_reward = rewards[1][p1_action, p2_action]\n",
    "\n",
    "    return (p1_action, p2_action), (p1_reward, p2_reward)\n",
    "\n",
    "\n",
    "def update_policy(policy, action, reward, learning_rate, update_alg='standard'):\n",
    "    if update_alg == 'standard':\n",
    "        for i in range(len(policy)):\n",
    "            if i is not action:\n",
    "                policy[i] += -learning_rate * reward * policy[i]\n",
    "            else:\n",
    "                policy[i] += learning_rate * reward * (1-policy[i])\n",
    "    elif update_alg == 'modified':\n",
    "        raise NotImplementedError('Havent implemented expected value (E)')\n",
    "        policy += -learning_rate * reward * policy + learning_rate*(E-policy[action])\n",
    "    else:\n",
    "        raise NotImplementedError('Algorithm not implemented.')        \n",
    "    return normalize(policy)\n",
    "\n",
    "\n",
    "def iterate(policy1, reward_matrix1, policy2, reward_matrix2, alpha=0.005, max_iterations=10000, update_alg='standard'):\n",
    "    p_history = [[],[]]\n",
    "    policies = [policy1, policy2]\n",
    "    rewards = [reward_matrix1, reward_matrix2]\n",
    "    Q = [[0 for _ in range(len(policy1))]] * 2\n",
    "    N = [[0 for _ in range(len(policy1))]] * 2     \n",
    "    for _ in range(max_iterations):\n",
    "        action, reward = play_game(policies, rewards)\n",
    "        for i in range(2):\n",
    "            p_history[i].append(policies[i])\n",
    "            policies[i] = update_policy(policies[i], action[i], reward[i], learning_rate=alpha, update_alg=update_alg)\n",
    "            N[i][action[i]] += 1\n",
    "            Q[i][action[i]] += 1/N[i][action[i]]*(reward[i]-Q[i][action[i]])\n",
    "    return p_history[0], p_history[1], Q[0], Q[1]\n",
    "\n",
    "\n",
    "def make_plots(player1_history, player2_history, action_labels):\n",
    "    # Plots of convergance\n",
    "    episodes = list(range(len(player1_history)))\n",
    "    players_list = [zip(*player1_history), zip(*player2_history)]\n",
    "    figure = plt.figure()\n",
    "    subplots = []\n",
    "    subplots.append(figure.add_subplot(121))\n",
    "    subplots.append(figure.add_subplot(122, sharey=subplots[0]))\n",
    "    for subplot, player, i in zip(subplots, players_list, range(2)):\n",
    "        for policy, action in zip(player, action_labels):\n",
    "            subplot.plot(episodes, policy, label=action)\n",
    "        subplot.set_xlabel('Episode')\n",
    "        subplot.set_title('Player ' + str(i+1))\n",
    "        subplot.legend()\n",
    "    figure.text(0.06, 0.5, 'Action Probability', ha='center', va='center', rotation='vertical')\n",
    "    plt.show()"
   ]
  },
  {
   "cell_type": "markdown",
   "metadata": {},
   "source": [
    "## Prisoner's Dilemma"
   ]
  },
  {
   "cell_type": "code",
   "execution_count": 3,
   "metadata": {},
   "outputs": [
    {
     "name": "stdout",
     "output_type": "stream",
     "text": [
      "Converged to probabilities of lying:\n",
      "\tPlayer 1:8.393236547050058e-22\n",
      "\tPlayer 2:2.7167052563750494e-30\n",
      "\n",
      "Converged to probabilities of confessing:\n",
      "\tPlayer 1:1.0\n",
      "\tPlayer 2:1.0\n",
      "\n"
     ]
    },
    {
     "data": {
      "image/png": "[encoded data removed]",
      "text/plain": [
       "<Figure size 432x288 with 2 Axes>"
      ]
     },
     "metadata": {
      "needs_background": "light"
     },
     "output_type": "display_data"
    }
   ],
   "source": [
    "rewards_1 = p1_rewards[0]\n",
    "rewards_2 = p2_rewards[0]\n",
    "labels = action_labels[0]\n",
    "N = 10000\n",
    "\n",
    "## start with random policies\n",
    "policy_1 = normalize(np.random.random(2))\n",
    "policy_2 = normalize(np.random.random(2))\n",
    "\n",
    "## start with both tending to lie\n",
    "#policy_1 = np.array([0.8, 0.2])\n",
    "#policy_2 = np.array([0.8, 0.2])\n",
    "\n",
    "## start with both tending to confess\n",
    "#policy_1 = np.array([0.2, 0.8])\n",
    "#policy_2 = np.array([0.2, 0.8])\n",
    "\n",
    "## start with one hardened criminal and one rookie\n",
    "#policy_1 = np.array([0.8, 0.2])\n",
    "#policy_2 = np.array([0.2, 0.8])\n",
    "\n",
    "p1_history, p2_history, Q1, Q2 = iterate(policy_1, rewards_1, policy_2, rewards_2, max_iterations=N)\n",
    "p1_lie, p1_confess = zip(*p1_history)\n",
    "p2_lie, p2_confess = zip(*p2_history)\n",
    "print('Converged to probabilities of lying:\\n\\tPlayer 1:{}\\n\\tPlayer 2:{}\\n'.format(p1_lie[-1], p2_lie[-1]))\n",
    "print('Converged to probabilities of confessing:\\n\\tPlayer 1:{}\\n\\tPlayer 2:{}\\n'.format(p1_confess[-1], p2_confess[-1]))\n",
    "make_plots(p1_history, p2_history, labels)"
   ]
  },
  {
   "cell_type": "markdown",
   "metadata": {},
   "source": [
    "## Matching Pennies"
   ]
  },
  {
   "cell_type": "code",
   "execution_count": 4,
   "metadata": {},
   "outputs": [
    {
     "ename": "ValueError",
     "evalue": "too many values to unpack (expected 2)",
     "output_type": "error",
     "traceback": [
      "\u001b[1;31m---------------------------------------------------------------------------\u001b[0m",
      "\u001b[1;31mValueError\u001b[0m                                Traceback (most recent call last)",
      "\u001b[1;32m<ipython-input-4-d992a1539953>\u001b[0m in \u001b[0;36m<module>\u001b[1;34m\u001b[0m\n\u001b[0;32m      8\u001b[0m \u001b[0mpolicy_2\u001b[0m \u001b[1;33m=\u001b[0m \u001b[0mnormalize\u001b[0m\u001b[1;33m(\u001b[0m\u001b[0mnp\u001b[0m\u001b[1;33m.\u001b[0m\u001b[0mrandom\u001b[0m\u001b[1;33m.\u001b[0m\u001b[0mrandom\u001b[0m\u001b[1;33m(\u001b[0m\u001b[1;36m2\u001b[0m\u001b[1;33m)\u001b[0m\u001b[1;33m)\u001b[0m\u001b[1;33m\u001b[0m\u001b[1;33m\u001b[0m\u001b[0m\n\u001b[0;32m      9\u001b[0m \u001b[1;33m\u001b[0m\u001b[0m\n\u001b[1;32m---> 10\u001b[1;33m \u001b[0mp1_history\u001b[0m\u001b[1;33m,\u001b[0m \u001b[0mp2_history\u001b[0m \u001b[1;33m=\u001b[0m \u001b[0miterate\u001b[0m\u001b[1;33m(\u001b[0m\u001b[0mpolicy_1\u001b[0m\u001b[1;33m,\u001b[0m \u001b[0mrewards_1\u001b[0m\u001b[1;33m,\u001b[0m \u001b[0mpolicy_2\u001b[0m\u001b[1;33m,\u001b[0m \u001b[0mrewards_2\u001b[0m\u001b[1;33m,\u001b[0m \u001b[0malpha\u001b[0m\u001b[1;33m=\u001b[0m\u001b[1;36m0.0001\u001b[0m\u001b[1;33m,\u001b[0m \u001b[0mmax_iterations\u001b[0m\u001b[1;33m=\u001b[0m\u001b[0mN\u001b[0m\u001b[1;33m)\u001b[0m\u001b[1;33m\u001b[0m\u001b[1;33m\u001b[0m\u001b[0m\n\u001b[0m\u001b[0;32m     11\u001b[0m \u001b[1;33m\u001b[0m\u001b[0m\n\u001b[0;32m     12\u001b[0m \u001b[0mp_heads1\u001b[0m\u001b[1;33m,\u001b[0m \u001b[0mp_tails1\u001b[0m \u001b[1;33m=\u001b[0m \u001b[0mzip\u001b[0m\u001b[1;33m(\u001b[0m\u001b[1;33m*\u001b[0m\u001b[0mp1_history\u001b[0m\u001b[1;33m)\u001b[0m\u001b[1;33m\u001b[0m\u001b[1;33m\u001b[0m\u001b[0m\n",
      "\u001b[1;31mValueError\u001b[0m: too many values to unpack (expected 2)"
     ]
    }
   ],
   "source": [
    "rewards_1 = p1_rewards[1]\n",
    "rewards_2 = p2_rewards[1]\n",
    "labels = action_labels[1]\n",
    "N = 100000\n",
    "\n",
    "# random policies\n",
    "policy_1 = normalize(np.random.random(2))\n",
    "policy_2 = normalize(np.random.random(2))\n",
    "\n",
    "p1_history, p2_history = iterate(policy_1, rewards_1, policy_2, rewards_2, alpha=0.0001, max_iterations=N)\n",
    "\n",
    "p_heads1, p_tails1 = zip(*p1_history)\n",
    "p_heads2, p_tails2 = zip(*p2_history)\n",
    "\n",
    "make_plots(p1_history, p2_history, labels)"
   ]
  },
  {
   "cell_type": "markdown",
   "metadata": {},
   "source": [
    "## Rock Paper Scissors"
   ]
  },
  {
   "cell_type": "code",
   "execution_count": null,
   "metadata": {},
   "outputs": [],
   "source": [
    "rewards_1 = p1_rewards[2]\n",
    "rewards_2 = p2_rewards[2]\n",
    "labels = action_labels[2]\n",
    "N = 100000\n",
    "\n",
    "# random policies\n",
    "policy_1 = normalize(np.random.random(3))\n",
    "policy_2 = normalize(np.random.random(3))\n",
    "\n",
    "p1_history, p2_history = iterate(policy_1, rewards_1, policy_2, rewards_2, alpha=0.0001, max_iterations=N)\n",
    "\n",
    "p_rock1, p_paper1, p_scissors1 = zip(*p1_history)\n",
    "p_rock2, p_paper2, p_scissors2 = zip(*p2_history)\n",
    "\n",
    "make_plots(p1_history, p2_history, labels)"
   ]
  },
  {
   "cell_type": "markdown",
   "metadata": {},
   "source": [
    "# All Three Games"
   ]
  },
  {
   "cell_type": "code",
   "execution_count": null,
   "metadata": {},
   "outputs": [],
   "source": [
    "N = 100000\n",
    "for game in range(3):\n",
    "    rewards_1 = p1_rewards[game]\n",
    "    rewards_2 = p2_rewards[game]\n",
    "    labels = action_labels[game]\n",
    "    size = len(labels)\n",
    "    #random starting policies\n",
    "    policy_1 = normalize(np.random.random(size))\n",
    "    policy_2 = normalize(np.random.random(size))\n",
    "    p1_history, p2_history = iterate(policy_1, rewards_1, policy_2, rewards_2, alpha=0.0001, max_iterations=N)\n",
    "    make_plots(p1_history, p2_history, labels)"
   ]
  },
  {
   "cell_type": "code",
   "execution_count": null,
   "metadata": {},
   "outputs": [],
   "source": []
  }
 ],
 "metadata": {
  "kernelspec": {
   "display_name": "Python 3",
   "language": "python",
   "name": "python3"
  },
  "language_info": {
   "codemirror_mode": {
    "name": "ipython",
    "version": 3
   },
   "file_extension": ".py",
   "mimetype": "text/x-python",
   "name": "python",
   "nbconvert_exporter": "python",
   "pygments_lexer": "ipython3",
   "version": "3.7.4"
  }
 },
 "nbformat": 4,
 "nbformat_minor": 4
}
